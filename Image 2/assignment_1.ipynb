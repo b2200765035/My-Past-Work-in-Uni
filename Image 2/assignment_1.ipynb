{
  "nbformat": 4,
  "nbformat_minor": 0,
  "metadata": {
    "colab": {
      "provenance": []
    },
    "kernelspec": {
      "name": "python3",
      "display_name": "Python 3"
    },
    "language_info": {
      "name": "python"
    }
  },
  "cells": [
    {
      "cell_type": "markdown",
      "source": [
        "#Fall 2024 AIN433 Assignment 1\n",
        "**Student:** Mehmet Ertaş - 2200765035\n",
        "\n",
        "**Instructor:** Ali Seydi Keçeli\n",
        "\n",
        "**TA:** Sibel Kapan"
      ],
      "metadata": {
        "id": "BszFsaPIrROg"
      }
    },
    {
      "cell_type": "markdown",
      "source": [
        "#Imports and Data Load"
      ],
      "metadata": {
        "id": "HgLhQPiTx63b"
      }
    },
    {
      "cell_type": "code",
      "execution_count": null,
      "metadata": {
        "id": "-YliBvywq6L5"
      },
      "outputs": [],
      "source": [
        "import numpy as np\n",
        "import pandas as pd\n",
        "import matplotlib.pyplot as plt\n",
        "import seaborn as sns\n",
        "from scipy.ndimage import convolve\n",
        "import cv2\n",
        "import os\n",
        "from tqdm import tqdm\n",
        "from sklearn.naive_bayes import GaussianNB\n",
        "from sklearn.linear_model import LogisticRegression\n",
        "from sklearn.metrics import accuracy_score\n",
        "from skimage import filters"
      ]
    },
    {
      "cell_type": "code",
      "source": [
        "from google.colab import drive\n",
        "drive.mount('/content/drive')"
      ],
      "metadata": {
        "id": "xzlGTVOtlJjs"
      },
      "execution_count": null,
      "outputs": []
    },
    {
      "cell_type": "markdown",
      "source": [
        "##Loading Data"
      ],
      "metadata": {
        "id": "lMpDEfFnlL1L"
      }
    },
    {
      "cell_type": "code",
      "source": [
        "labels = ['street', 'sea', 'mountain', 'glacier', 'forest', 'buildings']\n",
        "X_train = []\n",
        "y_train = []\n",
        "X_test = []\n",
        "y_test = []\n",
        "\n",
        "for i in labels:\n",
        "    folderPath = os.path.join('/content/drive/My Drive/intel_image_dataset/train/',i)\n",
        "    for j in tqdm(os.listdir(folderPath)):\n",
        "        img = cv2.imread(os.path.join(folderPath,j))\n",
        "        X_train.append(img)\n",
        "        y_train.append(i)\n",
        "\n",
        "for i in labels:\n",
        "    folderPath = os.path.join('/content/drive/My Drive/intel_image_dataset/test/',i)\n",
        "    for j in tqdm(os.listdir(folderPath)):\n",
        "        img = cv2.imread(os.path.join(folderPath,j))\n",
        "        X_test.append(img)\n",
        "        y_test.append(i)"
      ],
      "metadata": {
        "id": "MRvgU3GhsXmQ",
        "colab": {
          "base_uri": "https://localhost:8080/"
        },
        "outputId": "73ce366a-f3b5-432d-c300-6b5f99858ea9"
      },
      "execution_count": null,
      "outputs": [
        {
          "output_type": "stream",
          "name": "stderr",
          "text": [
            "100%|██████████| 2382/2382 [00:57<00:00, 41.10it/s] \n",
            "100%|██████████| 2274/2274 [01:26<00:00, 26.29it/s] \n",
            "100%|██████████| 2512/2512 [01:12<00:00, 34.74it/s] \n",
            "100%|██████████| 2404/2404 [01:03<00:00, 38.07it/s] \n",
            "100%|██████████| 2271/2271 [01:00<00:00, 37.68it/s] \n",
            "100%|██████████| 2191/2191 [01:27<00:00, 25.18it/s] \n",
            "100%|██████████| 501/501 [00:11<00:00, 45.37it/s] \n",
            "100%|██████████| 510/510 [00:11<00:00, 45.69it/s] \n",
            "100%|██████████| 525/525 [00:12<00:00, 41.12it/s] \n",
            "100%|██████████| 553/553 [00:09<00:00, 55.84it/s] \n",
            "100%|██████████| 474/474 [00:09<00:00, 52.26it/s] \n",
            "100%|██████████| 437/437 [00:08<00:00, 50.65it/s] \n"
          ]
        }
      ]
    },
    {
      "cell_type": "markdown",
      "source": [
        "#Functions"
      ],
      "metadata": {
        "id": "7fuc7IVMx-2N"
      }
    },
    {
      "cell_type": "markdown",
      "source": [
        "##Base Image Altering Functions"
      ],
      "metadata": {
        "id": "JljRumMTDNgb"
      }
    },
    {
      "cell_type": "code",
      "source": [
        "def grayscale(image):\n",
        "    return cv2.cvtColor(image, cv2.COLOR_BGR2GRAY)"
      ],
      "metadata": {
        "id": "yZ-OqaUHDVPe"
      },
      "execution_count": null,
      "outputs": []
    },
    {
      "cell_type": "markdown",
      "source": [
        "##Gradient Filtering Functions"
      ],
      "metadata": {
        "id": "X4cYPSIs0jwn"
      }
    },
    {
      "cell_type": "markdown",
      "source": [
        "###Sobel Filter"
      ],
      "metadata": {
        "id": "fz49P56DEugd"
      }
    },
    {
      "cell_type": "code",
      "source": [
        "#A function that returns gradX and gradY: two arrays that shows the x and y gradients of given image\n",
        "def sobelFilter(image):\n",
        "  #Sobel filters for X and Y gradients\n",
        "    sobelX = np.array([[-1, 0, 1],\n",
        "                       [-2, 0, 2],\n",
        "                       [-1, 0, 1]])\n",
        "\n",
        "    sobelY = np.array([[-1, -2, -1],\n",
        "                       [ 0,  0,  0],\n",
        "                       [ 1,  2,  1]])\n",
        "\n",
        "    #Filtering the image using X and Y filters\n",
        "    gradX = convolve(image, sobelX)\n",
        "    gradY = convolve(image, sobelY)\n",
        "\n",
        "    return gradX, gradY"
      ],
      "metadata": {
        "id": "fcTCpCPWEoEu"
      },
      "execution_count": null,
      "outputs": []
    },
    {
      "cell_type": "markdown",
      "source": [
        "###Prewitt Filter"
      ],
      "metadata": {
        "id": "yBOj7deMG0O-"
      }
    },
    {
      "cell_type": "code",
      "source": [
        "#A function that returns gradX and gradY: two arrays that shows the x and y gradients of given image\n",
        "def prewittFilter(image):\n",
        "    #Previtt filters for X and Y gradients\n",
        "    prewittX = np.array([[ -1, 0, 1],\n",
        "                         [ -1, 0, 1],\n",
        "                         [ -1, 0, 1]])\n",
        "\n",
        "    prewittY = np.array([[  1, 1, 1],\n",
        "                         [  0, 0, 0],\n",
        "                         [ -1, -1, -1]])\n",
        "\n",
        "    #Filtering the image using X and Y filters\n",
        "    gradX = convolve(image, prewittX)\n",
        "    gradY = convolve(image, prewittY)\n",
        "\n",
        "    return gradX, gradY"
      ],
      "metadata": {
        "id": "LC1loYcU0jfY"
      },
      "execution_count": null,
      "outputs": []
    },
    {
      "cell_type": "markdown",
      "source": [],
      "metadata": {
        "id": "6c-dDbvtG2Fg"
      }
    },
    {
      "cell_type": "markdown",
      "source": [
        "##Magnitude and Orientation finding Function"
      ],
      "metadata": {
        "id": "LEB9lkXE3h3u"
      }
    },
    {
      "cell_type": "markdown",
      "source": [
        "![1_w3Uo3WUwnbpgmNOZHRKvpA.webp](data:image/webp;base64,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)"
      ],
      "metadata": {
        "id": "TNM386Yrz4gZ"
      }
    },
    {
      "cell_type": "code",
      "source": [
        "#A function that returns magnitude and orientation given X and Y gradients of an image\n",
        "def magAndOri(gradX,gradY):\n",
        "    mag = np.sqrt(gradX ** 2 + gradY ** 2)\n",
        "\n",
        "    ori = np.rad2deg(np.arctan2(gradY, gradX)) % 180\n",
        "\n",
        "    return mag, ori"
      ],
      "metadata": {
        "id": "Fhl3dOHsx9nJ"
      },
      "execution_count": null,
      "outputs": []
    },
    {
      "cell_type": "markdown",
      "source": [
        "##Grid Dividing Function"
      ],
      "metadata": {
        "id": "RoRs6iVoKd62"
      }
    },
    {
      "cell_type": "code",
      "source": [
        "#A function that divides the image into Row x Col grid and returns them in an array\n",
        "def gridDivider(image, gridRow = 4, gridCol = 4):\n",
        "    h, w = image.shape\n",
        "    gridH, gridW = h // gridRow, w // gridCol #By default it is 4x4 grid\n",
        "\n",
        "    grids = []\n",
        "    for i in range(gridRow):\n",
        "        for j in range(gridCol):\n",
        "            grid = image[i*gridH:(i+1)*gridH, j*gridW:(j+1)*gridW]\n",
        "            grids.append(grid)\n",
        "\n",
        "    return grids"
      ],
      "metadata": {
        "id": "-degfYwdKi_-"
      },
      "execution_count": null,
      "outputs": []
    },
    {
      "cell_type": "markdown",
      "source": [
        "##Histogram Functions"
      ],
      "metadata": {
        "id": "x8m6KtLzMkBx"
      }
    },
    {
      "cell_type": "markdown",
      "source": [
        "###Histogram Plotter"
      ],
      "metadata": {
        "id": "ke5f_1UxMmYN"
      }
    },
    {
      "cell_type": "code",
      "source": [
        "#A function that returns the histogram of given image based on the angle of the orientation.\n",
        "def compute_histograms(mag, ori, num_bins=9):\n",
        "    h, w = mag.shape\n",
        "    bin_width = 180 / num_bins\n",
        "    histogram = np.zeros(num_bins)\n",
        "\n",
        "    for i in range(h):\n",
        "        for j in range(w):\n",
        "            angle = ori[i, j]\n",
        "            bin_idx = int(angle // bin_width)\n",
        "            histogram[bin_idx] += mag[i, j]\n",
        "\n",
        "    return histogram"
      ],
      "metadata": {
        "id": "0wBv6AmnMmBR"
      },
      "execution_count": null,
      "outputs": []
    },
    {
      "cell_type": "markdown",
      "source": [
        "###Histogram Normalizing and Rotatoing Functions"
      ],
      "metadata": {
        "id": "RpnfSkCGM9gX"
      }
    },
    {
      "cell_type": "code",
      "source": [
        "#A function that returns normalized histogram\n",
        "def normalize_histogram(histogram):\n",
        "    norm = np.linalg.norm(histogram)\n",
        "    return histogram / (norm + 1e-6)\n",
        "\n",
        "#A function that returns rotated histogram where the maximum gradient is at start\n",
        "#While the pdf says to put it in middle, the figures showed it at the start so I used that as a base.\n",
        "def rotate_histogram(histogram):\n",
        "    max_bin_index = np.argmax(histogram)\n",
        "    return np.roll(histogram, -max_bin_index)"
      ],
      "metadata": {
        "id": "v8z9KN_GM903"
      },
      "execution_count": null,
      "outputs": []
    },
    {
      "cell_type": "markdown",
      "source": [
        "##HoG Function"
      ],
      "metadata": {
        "id": "UoRZy07T3nKu"
      }
    },
    {
      "cell_type": "code",
      "source": [
        "#A function that returns 1d vector that is usable by logistic regression or naive bayes classifier\n",
        "def compute_hog_features(image, target =(1024,1024), gridRow = 4, gridCol = 4, filter_type='sobel'):\n",
        "  #Turning it grayscale\n",
        "  grayImage = grayscale(image)\n",
        "\n",
        "  #Dividing into grids\n",
        "  grids = gridDivider(grayImage, gridRow, gridCol)\n",
        "\n",
        "  histograms = []\n",
        "  for grid in grids:\n",
        "    if filter_type == 'sobel':\n",
        "      gradX, gradY = sobelFilter(grid)\n",
        "    elif filter_type == 'prewitt':\n",
        "      gradX, gradY = prewittFilter(grid)\n",
        "    mag, ori = magAndOri(gradX, gradY)\n",
        "\n",
        "    histogram = compute_histograms(mag, ori)\n",
        "    normalized_hist = normalize_histogram(histogram)  #Normalize histogram\n",
        "    rotated_hist = rotate_histogram(normalized_hist)  #Rotate histogram\n",
        "    histograms.append(rotated_hist)\n",
        "\n",
        "  return np.concatenate(histograms)  #Return a 1d vector so that we can use it later"
      ],
      "metadata": {
        "id": "wB8pESzr3roD"
      },
      "execution_count": null,
      "outputs": []
    },
    {
      "cell_type": "markdown",
      "source": [
        "#3x3 Grid Tests"
      ],
      "metadata": {
        "id": "0DNkF-40rrVX"
      }
    },
    {
      "cell_type": "markdown",
      "source": [
        "##Sobel"
      ],
      "metadata": {
        "id": "B5m8nRtFmZnj"
      }
    },
    {
      "cell_type": "code",
      "source": [
        "x_train_hog_3s = []\n",
        "for img in tqdm(X_train):\n",
        "    hog_features = compute_hog_features(img, gridRow = 3, gridCol = 3, filter_type='sobel')\n",
        "    x_train_hog_3s.append(hog_features)"
      ],
      "metadata": {
        "colab": {
          "base_uri": "https://localhost:8080/"
        },
        "id": "Zz2ABPwI1s06",
        "outputId": "6eac73f3-8fe8-47d7-9111-f5100635bdd2"
      },
      "execution_count": null,
      "outputs": [
        {
          "output_type": "stream",
          "name": "stderr",
          "text": [
            "100%|██████████| 14034/14034 [17:47<00:00, 13.14it/s]\n"
          ]
        }
      ]
    },
    {
      "cell_type": "code",
      "source": [
        "x_test_hog_3s = []\n",
        "for img in tqdm(X_test):\n",
        "    hog_features = compute_hog_features(img, gridRow = 3, gridCol = 3, filter_type='sobel')\n",
        "    x_test_hog_3s.append(hog_features)"
      ],
      "metadata": {
        "colab": {
          "base_uri": "https://localhost:8080/"
        },
        "id": "YlDOBDmFDLzD",
        "outputId": "97d5c983-cb01-4074-967e-3b8ff0435c7c"
      },
      "execution_count": null,
      "outputs": [
        {
          "output_type": "stream",
          "name": "stderr",
          "text": [
            "100%|██████████| 3000/3000 [03:47<00:00, 13.18it/s]\n"
          ]
        }
      ]
    },
    {
      "cell_type": "code",
      "source": [
        "naive_bayes_classifier = GaussianNB()\n",
        "naive_bayes_classifier.fit(x_train_hog_3s, y_train)\n",
        "y_pred_nb = naive_bayes_classifier.predict(x_test_hog_3s)\n",
        "accuracy_nb = accuracy_score(y_test, y_pred_nb)\n",
        "print(f'Naive Bayes Accuracy: {accuracy_nb:.2f}')"
      ],
      "metadata": {
        "colab": {
          "base_uri": "https://localhost:8080/"
        },
        "id": "yr8eu8MvvRCq",
        "outputId": "e1c4d8c6-f2aa-4be7-f86d-9dc3036c97b3"
      },
      "execution_count": null,
      "outputs": [
        {
          "output_type": "stream",
          "name": "stdout",
          "text": [
            "Naive Bayes Accuracy: 0.45\n"
          ]
        }
      ]
    },
    {
      "cell_type": "code",
      "source": [
        "logistic_regression_classifier = LogisticRegression(max_iter=1000)\n",
        "logistic_regression_classifier.fit(x_train_hog_3s, y_train)\n",
        "y_pred_lr = logistic_regression_classifier.predict(x_test_hog_3s)\n",
        "accuracy_lr = accuracy_score(y_test, y_pred_lr)\n",
        "print(f'Logistic Regression Accuracy: {accuracy_lr:.2f}')"
      ],
      "metadata": {
        "colab": {
          "base_uri": "https://localhost:8080/"
        },
        "id": "MldFQC7rbMOw",
        "outputId": "abd0b9c3-ba69-45e3-92ed-dae311bfb4ef"
      },
      "execution_count": null,
      "outputs": [
        {
          "output_type": "stream",
          "name": "stdout",
          "text": [
            "Logistic Regression Accuracy: 0.54\n"
          ]
        }
      ]
    },
    {
      "cell_type": "markdown",
      "source": [
        "##Prewitt"
      ],
      "metadata": {
        "id": "VgM2JGQimhTc"
      }
    },
    {
      "cell_type": "code",
      "source": [
        "x_train_hog_3p = []\n",
        "for img in tqdm(X_train):\n",
        "    hog_features = compute_hog_features(img, gridRow = 3, gridCol = 3, filter_type='prewitt')\n",
        "    x_train_hog_3p.append(hog_features)"
      ],
      "metadata": {
        "colab": {
          "base_uri": "https://localhost:8080/"
        },
        "outputId": "2a75a271-a926-46a1-d34c-e12a30190f6b",
        "id": "BOYwTnQtmhTd"
      },
      "execution_count": null,
      "outputs": [
        {
          "output_type": "stream",
          "name": "stderr",
          "text": [
            "100%|██████████| 14034/14034 [17:39<00:00, 13.24it/s]\n"
          ]
        }
      ]
    },
    {
      "cell_type": "code",
      "source": [
        "x_test_hog_3p = []\n",
        "for img in tqdm(X_test):\n",
        "    hog_features = compute_hog_features(img, gridRow = 3, gridCol = 3, filter_type='prewitt')\n",
        "    x_test_hog_3p.append(hog_features)"
      ],
      "metadata": {
        "colab": {
          "base_uri": "https://localhost:8080/"
        },
        "id": "RIlEhlpMmhTd",
        "outputId": "552ab575-9a69-4de5-e53f-afd41494cb1c"
      },
      "execution_count": null,
      "outputs": [
        {
          "output_type": "stream",
          "name": "stderr",
          "text": [
            "100%|██████████| 3000/3000 [03:47<00:00, 13.20it/s]\n"
          ]
        }
      ]
    },
    {
      "cell_type": "code",
      "source": [
        "naive_bayes_classifier = GaussianNB()\n",
        "naive_bayes_classifier.fit(x_train_hog_3p, y_train)\n",
        "y_pred_nb = naive_bayes_classifier.predict(x_test_hog_3p)\n",
        "accuracy_nb = accuracy_score(y_test, y_pred_nb)\n",
        "print(f'Naive Bayes Accuracy: {accuracy_nb:.2f}')"
      ],
      "metadata": {
        "colab": {
          "base_uri": "https://localhost:8080/"
        },
        "id": "r6VtzVHamhTf",
        "outputId": "e826d405-45e7-45bd-810e-fec69038ab02"
      },
      "execution_count": null,
      "outputs": [
        {
          "output_type": "stream",
          "name": "stdout",
          "text": [
            "Naive Bayes Accuracy: 0.48\n"
          ]
        }
      ]
    },
    {
      "cell_type": "code",
      "source": [
        "logistic_regression_classifier = LogisticRegression(max_iter=1000)\n",
        "logistic_regression_classifier.fit(x_train_hog_3p, y_train)\n",
        "y_pred_lr = logistic_regression_classifier.predict(x_test_hog_3p)\n",
        "accuracy_lr = accuracy_score(y_test, y_pred_lr)\n",
        "print(f'Logistic Regression Accuracy: {accuracy_lr:.2f}')"
      ],
      "metadata": {
        "colab": {
          "base_uri": "https://localhost:8080/"
        },
        "id": "Z4dw_EnWmhTf",
        "outputId": "364f957c-26c8-42b0-e064-5966c9085b10"
      },
      "execution_count": null,
      "outputs": [
        {
          "output_type": "stream",
          "name": "stdout",
          "text": [
            "Logistic Regression Accuracy: 0.56\n"
          ]
        }
      ]
    },
    {
      "cell_type": "markdown",
      "source": [
        "#4x4 Grid Tests"
      ],
      "metadata": {
        "id": "n-MJYMU9m-J1"
      }
    },
    {
      "cell_type": "markdown",
      "source": [
        "##Sobel"
      ],
      "metadata": {
        "id": "ZPOU9YVwm-J2"
      }
    },
    {
      "cell_type": "code",
      "source": [
        "x_train_hog_4s = []\n",
        "for img in tqdm(X_train):\n",
        "    hog_features = compute_hog_features(img, gridRow = 4, gridCol = 4, filter_type='sobel')\n",
        "    x_train_hog_4s.append(hog_features)"
      ],
      "metadata": {
        "colab": {
          "base_uri": "https://localhost:8080/"
        },
        "outputId": "dc072f04-7b80-41fb-9030-15919a30c106",
        "id": "j9XZIQKim-J2"
      },
      "execution_count": null,
      "outputs": [
        {
          "output_type": "stream",
          "name": "stderr",
          "text": [
            "100%|██████████| 14034/14034 [17:41<00:00, 13.22it/s]\n"
          ]
        }
      ]
    },
    {
      "cell_type": "code",
      "source": [
        "x_test_hog_4s = []\n",
        "for img in tqdm(X_test):\n",
        "    hog_features = compute_hog_features(img, gridRow = 4, gridCol = 4, filter_type='sobel')\n",
        "    x_test_hog_4s.append(hog_features)"
      ],
      "metadata": {
        "colab": {
          "base_uri": "https://localhost:8080/"
        },
        "id": "YdRkS2njm-J3",
        "outputId": "cbeba2ca-1948-47b1-f394-fe2b0ee61a0a"
      },
      "execution_count": null,
      "outputs": [
        {
          "output_type": "stream",
          "name": "stderr",
          "text": [
            "100%|██████████| 3000/3000 [03:46<00:00, 13.27it/s]\n"
          ]
        }
      ]
    },
    {
      "cell_type": "code",
      "source": [
        "naive_bayes_classifier = GaussianNB()\n",
        "naive_bayes_classifier.fit(x_train_hog_4s, y_train)\n",
        "y_pred_nb = naive_bayes_classifier.predict(x_test_hog_4s)\n",
        "accuracy_nb = accuracy_score(y_test, y_pred_nb)\n",
        "print(f'Naive Bayes Accuracy: {accuracy_nb:.2f}')"
      ],
      "metadata": {
        "colab": {
          "base_uri": "https://localhost:8080/"
        },
        "id": "ChhNJoxfm-J3",
        "outputId": "bd3a7faf-a2a3-479c-b5ba-4378a41b9ecf"
      },
      "execution_count": null,
      "outputs": [
        {
          "output_type": "stream",
          "name": "stdout",
          "text": [
            "Naive Bayes Accuracy: 0.48\n"
          ]
        }
      ]
    },
    {
      "cell_type": "code",
      "source": [
        "logistic_regression_classifier = LogisticRegression(max_iter=1000)\n",
        "logistic_regression_classifier.fit(x_train_hog_4s, y_train)\n",
        "y_pred_lr = logistic_regression_classifier.predict(x_test_hog_4s)\n",
        "accuracy_lr = accuracy_score(y_test, y_pred_lr)\n",
        "print(f'Logistic Regression Accuracy: {accuracy_lr:.2f}')"
      ],
      "metadata": {
        "colab": {
          "base_uri": "https://localhost:8080/"
        },
        "id": "UsE7mC4Wm-J3",
        "outputId": "11cd0f8d-8841-4a80-abe5-5c4781366b48"
      },
      "execution_count": null,
      "outputs": [
        {
          "output_type": "stream",
          "name": "stdout",
          "text": [
            "Logistic Regression Accuracy: 0.56\n"
          ]
        }
      ]
    },
    {
      "cell_type": "markdown",
      "source": [
        "##Prewitt"
      ],
      "metadata": {
        "id": "XTR6DQivm-J4"
      }
    },
    {
      "cell_type": "code",
      "source": [
        "x_train_hog_4p = []\n",
        "for img in tqdm(X_train):\n",
        "    hog_features = compute_hog_features(img, gridRow = 4, gridCol = 4, filter_type='prewitt')\n",
        "    x_train_hog_4p.append(hog_features)"
      ],
      "metadata": {
        "colab": {
          "base_uri": "https://localhost:8080/"
        },
        "outputId": "2eb5f5a7-89ff-46f9-b4cf-9b8531223375",
        "id": "9KJF7YA7m-J4"
      },
      "execution_count": null,
      "outputs": [
        {
          "output_type": "stream",
          "name": "stderr",
          "text": [
            "100%|██████████| 14034/14034 [17:32<00:00, 13.33it/s]\n"
          ]
        }
      ]
    },
    {
      "cell_type": "code",
      "source": [
        "x_test_hog_4p = []\n",
        "for img in tqdm(X_test):\n",
        "    hog_features = compute_hog_features(img, gridRow = 4, gridCol = 4, filter_type='prewitt')\n",
        "    x_test_hog_4p.append(hog_features)"
      ],
      "metadata": {
        "colab": {
          "base_uri": "https://localhost:8080/"
        },
        "id": "TLabXZejm-J5",
        "outputId": "310b1772-68fa-4e12-afaf-88a3aa8d40da"
      },
      "execution_count": null,
      "outputs": [
        {
          "output_type": "stream",
          "name": "stderr",
          "text": [
            "100%|██████████| 3000/3000 [03:45<00:00, 13.27it/s]\n"
          ]
        }
      ]
    },
    {
      "cell_type": "code",
      "source": [
        "naive_bayes_classifier = GaussianNB()\n",
        "naive_bayes_classifier.fit(x_train_hog_4p, y_train)\n",
        "y_pred_nb = naive_bayes_classifier.predict(x_test_hog_4p)\n",
        "accuracy_nb = accuracy_score(y_test, y_pred_nb)\n",
        "print(f'Naive Bayes Accuracy: {accuracy_nb:.2f}')"
      ],
      "metadata": {
        "colab": {
          "base_uri": "https://localhost:8080/"
        },
        "id": "gl733FP_m-J6",
        "outputId": "b2371680-e237-4733-9278-b840f1706454"
      },
      "execution_count": null,
      "outputs": [
        {
          "output_type": "stream",
          "name": "stdout",
          "text": [
            "Naive Bayes Accuracy: 0.50\n"
          ]
        }
      ]
    },
    {
      "cell_type": "code",
      "source": [
        "logistic_regression_classifier = LogisticRegression(max_iter=1000)\n",
        "logistic_regression_classifier.fit(x_train_hog_4p, y_train)\n",
        "y_pred_lr = logistic_regression_classifier.predict(x_test_hog_4p)\n",
        "accuracy_lr = accuracy_score(y_test, y_pred_lr)\n",
        "print(f'Logistic Regression Accuracy: {accuracy_lr:.2f}')"
      ],
      "metadata": {
        "colab": {
          "base_uri": "https://localhost:8080/"
        },
        "id": "uRCDfIEbm-J7",
        "outputId": "d1426aae-df02-4df7-c27b-575b6e66a4a0"
      },
      "execution_count": null,
      "outputs": [
        {
          "output_type": "stream",
          "name": "stdout",
          "text": [
            "Logistic Regression Accuracy: 0.57\n"
          ]
        }
      ]
    },
    {
      "cell_type": "markdown",
      "source": [
        "#5x5 Grid Tests"
      ],
      "metadata": {
        "id": "lCkApVSum-T5"
      }
    },
    {
      "cell_type": "markdown",
      "source": [
        "##Sobel"
      ],
      "metadata": {
        "id": "yVI_4g_pm-T5"
      }
    },
    {
      "cell_type": "code",
      "source": [
        "x_train_hog_5s = []\n",
        "for img in tqdm(X_train):\n",
        "    hog_features = compute_hog_features(img, gridRow = 5, gridCol = 5, filter_type='sobel')\n",
        "    x_train_hog_5s.append(hog_features)"
      ],
      "metadata": {
        "colab": {
          "base_uri": "https://localhost:8080/"
        },
        "outputId": "8cac532e-6dab-49e6-f350-e9897b3e9e35",
        "id": "m0gvSuWMm-T6"
      },
      "execution_count": null,
      "outputs": [
        {
          "output_type": "stream",
          "name": "stderr",
          "text": [
            "100%|██████████| 14034/14034 [18:23<00:00, 12.72it/s]\n"
          ]
        }
      ]
    },
    {
      "cell_type": "code",
      "source": [
        "x_test_hog_5s = []\n",
        "for img in tqdm(X_test):\n",
        "    hog_features = compute_hog_features(img, gridRow = 5, gridCol = 5, filter_type='sobel')\n",
        "    x_test_hog_5s.append(hog_features)"
      ],
      "metadata": {
        "colab": {
          "base_uri": "https://localhost:8080/"
        },
        "id": "8JFC13YTm-T6",
        "outputId": "281b28c1-13d4-4784-ef5c-6134f3b5f269"
      },
      "execution_count": null,
      "outputs": [
        {
          "output_type": "stream",
          "name": "stderr",
          "text": [
            "100%|██████████| 3000/3000 [03:59<00:00, 12.54it/s]\n"
          ]
        }
      ]
    },
    {
      "cell_type": "code",
      "source": [
        "naive_bayes_classifier = GaussianNB()\n",
        "naive_bayes_classifier.fit(x_train_hog_5s, y_train)\n",
        "y_pred_nb = naive_bayes_classifier.predict(x_test_hog_5s)\n",
        "accuracy_nb = accuracy_score(y_test, y_pred_nb)\n",
        "print(f'Naive Bayes Accuracy: {accuracy_nb:.2f}')"
      ],
      "metadata": {
        "colab": {
          "base_uri": "https://localhost:8080/"
        },
        "id": "zkb3F_R1m-T6",
        "outputId": "7abdc7d1-56b0-48ee-e7b5-b41e183acfdc"
      },
      "execution_count": null,
      "outputs": [
        {
          "output_type": "stream",
          "name": "stdout",
          "text": [
            "Naive Bayes Accuracy: 0.50\n"
          ]
        }
      ]
    },
    {
      "cell_type": "code",
      "source": [
        "logistic_regression_classifier = LogisticRegression(max_iter=1000)\n",
        "logistic_regression_classifier.fit(x_train_hog_5s, y_train)\n",
        "y_pred_lr = logistic_regression_classifier.predict(x_test_hog_5s)\n",
        "accuracy_lr = accuracy_score(y_test, y_pred_lr)\n",
        "print(f'Logistic Regression Accuracy: {accuracy_lr:.2f}')"
      ],
      "metadata": {
        "colab": {
          "base_uri": "https://localhost:8080/"
        },
        "id": "o6my8fFQm-T6",
        "outputId": "f8b1dc91-0a4a-404b-a5c7-a3a73f8f89bf"
      },
      "execution_count": null,
      "outputs": [
        {
          "output_type": "stream",
          "name": "stdout",
          "text": [
            "Logistic Regression Accuracy: 0.58\n"
          ]
        }
      ]
    },
    {
      "cell_type": "markdown",
      "source": [
        "##Prewitt"
      ],
      "metadata": {
        "id": "XHJo8iGmm-T7"
      }
    },
    {
      "cell_type": "code",
      "source": [
        "x_train_hog_5p = []\n",
        "for img in tqdm(X_train):\n",
        "    hog_features = compute_hog_features(img, gridRow = 5, gridCol = 5, filter_type='prewitt')\n",
        "    x_train_hog_5p.append(hog_features)"
      ],
      "metadata": {
        "colab": {
          "base_uri": "https://localhost:8080/"
        },
        "outputId": "be4e92ee-f905-4e87-b445-cf31e131c184",
        "id": "vRbYXh6zm-T7"
      },
      "execution_count": null,
      "outputs": [
        {
          "output_type": "stream",
          "name": "stderr",
          "text": [
            "100%|██████████| 14034/14034 [18:25<00:00, 12.69it/s]\n"
          ]
        }
      ]
    },
    {
      "cell_type": "code",
      "source": [
        "x_test_hog_5p = []\n",
        "for img in tqdm(X_test):\n",
        "    hog_features = compute_hog_features(img, gridRow = 5, gridCol = 5, filter_type='prewitt')\n",
        "    x_test_hog_5p.append(hog_features)"
      ],
      "metadata": {
        "colab": {
          "base_uri": "https://localhost:8080/"
        },
        "id": "_4275-n3m-T7",
        "outputId": "9f4ef422-1bad-4dd0-e67e-a643da1563d5"
      },
      "execution_count": null,
      "outputs": [
        {
          "output_type": "stream",
          "name": "stderr",
          "text": [
            "100%|██████████| 3000/3000 [03:56<00:00, 12.68it/s]\n"
          ]
        }
      ]
    },
    {
      "cell_type": "code",
      "source": [
        "naive_bayes_classifier = GaussianNB()\n",
        "naive_bayes_classifier.fit(x_train_hog_5p, y_train)\n",
        "y_pred_nb = naive_bayes_classifier.predict(x_test_hog_5p)\n",
        "accuracy_nb = accuracy_score(y_test, y_pred_nb)\n",
        "print(f'Naive Bayes Accuracy: {accuracy_nb:.2f}')"
      ],
      "metadata": {
        "colab": {
          "base_uri": "https://localhost:8080/"
        },
        "id": "dXrLPFojm-T7",
        "outputId": "57bdbbbb-5317-4d52-cd22-87cb2d2e3c9d"
      },
      "execution_count": null,
      "outputs": [
        {
          "output_type": "stream",
          "name": "stdout",
          "text": [
            "Naive Bayes Accuracy: 0.52\n"
          ]
        }
      ]
    },
    {
      "cell_type": "code",
      "source": [
        "logistic_regression_classifier = LogisticRegression(max_iter=1000)\n",
        "logistic_regression_classifier.fit(x_train_hog_5p, y_train)\n",
        "y_pred_lr = logistic_regression_classifier.predict(x_test_hog_5p)\n",
        "accuracy_lr = accuracy_score(y_test, y_pred_lr)\n",
        "print(f'Logistic Regression Accuracy: {accuracy_lr:.2f}')"
      ],
      "metadata": {
        "colab": {
          "base_uri": "https://localhost:8080/"
        },
        "id": "BzNsr64Tm-T7",
        "outputId": "48a84188-9536-4f10-b0a5-1f937de6bd34"
      },
      "execution_count": null,
      "outputs": [
        {
          "output_type": "stream",
          "name": "stdout",
          "text": [
            "Logistic Regression Accuracy: 0.59\n"
          ]
        }
      ]
    },
    {
      "cell_type": "markdown",
      "source": [
        "#Report"
      ],
      "metadata": {
        "id": "_stKQ8skltaO"
      }
    },
    {
      "cell_type": "markdown",
      "source": [
        "In this assignment we were tasked to write our own Histogram of Gradient function and use that to classify different pictures.\n",
        "\n",
        "In order to have a clean code I started with dividing the HoG transform into several smaller steps. Then I made each of them seperate functions before combining them into one HoG function. This allowed me to make changes easier.\n",
        "\n",
        "For the grid dividing function I made it so that we can seperate the grid into 4x5 or 6x3 allowing me have more control over my grid. Since the size of the each grid is dynamically adjusted I didn't resize my pictures beforehand. I compared between 3x3, 4x4, 5x5 grids. Bigger grids produced better results but also longer to compute.\n",
        "\n",
        "I used Sobel and Prewitt filters to compare against each other. Prewitt filter provided better results even though both were about 50% accuracy. With equal computing times."
      ],
      "metadata": {
        "id": "pQ4l3pd01l92"
      }
    }
  ]
}